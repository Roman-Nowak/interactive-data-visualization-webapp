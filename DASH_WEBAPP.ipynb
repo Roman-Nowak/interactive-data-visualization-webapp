{
 "cells": [
  {
   "cell_type": "code",
   "execution_count": 1,
   "id": "5d939d15",
   "metadata": {},
   "outputs": [],
   "source": [
    "import dash\n",
    "import numpy as np\n",
    "from PIL import Image\n",
    "from dash import dcc, html, Input, Output\n",
    "import dash.dependencies as dd\n",
    "import plotly.graph_objs as go\n",
    "import plotly.express as px\n",
    "import matplotlib.pyplot as plt\n",
    "from wordcloud import WordCloud"
   ]
  },
  {
   "cell_type": "code",
   "execution_count": 2,
   "id": "80ef2980",
   "metadata": {},
   "outputs": [],
   "source": [
    "external_stylesheets = ['https://codepen.io/chriddyp/pen/bWLwgP.css']\n",
    "app = dash.Dash(__name__, external_stylesheets=external_stylesheets)\n",
    "app.title = \"INTERACTIVE DATA VISUALIZATION\"\n",
    "\n",
    "colors = {\n",
    "    'background': '#111111',\n",
    "    'text': '#7FDBFF'\n",
    "}\n",
    "\n",
    "pos_common = ['top', 'price', 'week', 'next', 'analyst', 'target', 'like', 'burn', 'buy', 'back', 'ust', 'terra', 'money', 'crypto', 'great', 'would', 'yes', 'good', 'market', 'please', 'think', 'let', 'tokens', 'value', 'make', 'happy', 'get', 'way', 'better', 'people', 'still', 'worth', 'could', 'save', 'much', 'new', 'one', 'thank', 'help', 'know', 'hope', 'well', 'btc', 'lost', 'see', 'may', 'come', 'going', 'ecosystem']\n",
    "\n",
    "neg_common = ['ust', 'buy', 'people', 'crypto', 'terra', 'price', 'bitcoin', 'burn', 'would', 'still', 'back', 'bought', 'kwon', 'see', 'time', 'coins', 'market', 'btc', 'going', 'go', 'lost', 'goes', 'everyone', 'collapse', 'happen', 'crash', 'get', 'think', 'us', 'moon', 'next', 'never', 'make', 'let', 'right', 'got', 'first', 'holders', 'supply', 'new', 'buying', 'way', 'money', 'said', 'one', 'current', 'take', 'token', 'na']"
   ]
  },
  {
   "cell_type": "code",
   "execution_count": 3,
   "id": "2b783b66",
   "metadata": {
    "jupyter": {
     "source_hidden": true
    },
    "tags": []
   },
   "outputs": [],
   "source": [
    "# root node\n",
    "app.layout = html.Div(\n",
    "    style={\n",
    "        'height': '98vh',\n",
    "        'backgroundColor': colors['background']\n",
    "        },\n",
    "    children=[\n",
    "    html.H1(\n",
    "        children='INTERACTIVE DATA VISUALIZATION WEBAPP',\n",
    "        style={\n",
    "            'padding-top': '3vh',\n",
    "            'textAlign': 'center',\n",
    "            'color': colors['text']\n",
    "        }\n",
    "    ),\n",
    "\n",
    "    html.Div(\n",
    "        children='LOGO',\n",
    "        style={\n",
    "            'textAlign': 'left',\n",
    "            'color': colors['text']\n",
    "        }\n",
    "    ),\n",
    "\n",
    "    html.Div(style={\n",
    "        'margin': 'auto',\n",
    "        'width': '50%',\n",
    "        'padding': '10px',\n",
    "    },\n",
    "        children=[\n",
    "            html.P(children=\n",
    "                   'The price of the LUNA cryptocurrency running on the Terra blockchain has been falling since april. Even more recently, the token has sufferend a massive dip resulting in the price falling to aproximately 0.00017 USD per coin. Bellow you can display a wordcloud visualization of keywords derived from tweets with #LUNA. Do so by clicking on one of the buttons. The tweets have been categorized into positive and negative based on their sentiment.',\n",
    "                   style={\n",
    "                       'color': colors['text']\n",
    "                       }\n",
    "                    )\n",
    "                ]\n",
    "            ),\n",
    "\n",
    "    # THE DATA VISUALIZATION\n",
    "    html.Div(style={\n",
    "        'margin': 'auto',\n",
    "        'width': '50%',\n",
    "        'height': '50vh',\n",
    "        'padding': '10px',\n",
    "    },\n",
    "        children=html.Div(id='visualization')\n",
    "    ),\n",
    "\n",
    "    html.Div(style={\n",
    "        'margin': 'auto',\n",
    "        'width': '50%',\n",
    "        'padding': '10px',\n",
    "    },\n",
    "        children=[\n",
    "                dcc.RadioItems(\n",
    "                id='vis_input',\n",
    "                options=[\n",
    "                    {'label': 'Positive tweets', 'value': 'Positive'},\n",
    "                    {'label': 'Negative tweets', 'value': 'Negative'},\n",
    "                ],\n",
    "                value='None',\n",
    "                labelStyle={\n",
    "                    'display': 'inline-block',\n",
    "                    'width': '10em',\n",
    "                    'line-height': '0.5em'\n",
    "                    },\n",
    "                style={\n",
    "                    'color': colors['text'],\n",
    "                    'padding': '10px',\n",
    "                    'textAlign': 'center',\n",
    "                    'fontSize': '20px'\n",
    "                    }\n",
    "                )\n",
    "            ]\n",
    "        )\n",
    "    ]\n",
    ")\n",
    "\n",
    "\n",
    "\n",
    "@app.callback(Output(\"visualization\", \"children\"),\n",
    "              Input(\"vis_input\", \"value\"))\n",
    "def update_output(vis_input):\n",
    "    if 'Positive' in vis_input:\n",
    "        img = np.array(Image.open(\"C:/Users/Rnowa/Documents/UX_UE_DASH_WEBAPP_WEBSCRAPING/plots/pos.png\"))\n",
    "\n",
    "    elif 'Negative' in vis_input:\n",
    "        img = np.array(Image.open(\"C:/Users/Rnowa/Documents/UX_UE_DASH_WEBAPP_WEBSCRAPING/plots/neg.png\"))\n",
    "    \n",
    "    fig = px.imshow(img)\n",
    "    fig.update_layout(coloraxis_showscale=False)\n",
    "    fig.update_xaxes(showticklabels=False)\n",
    "    fig.update_yaxes(showticklabels=False)\n",
    "    \n",
    "    return dcc.Graph(figure=fig)\n"
   ]
  },
  {
   "cell_type": "code",
   "execution_count": null,
   "id": "4c48beb0-dcbd-4542-a113-1dc5357fb15b",
   "metadata": {
    "jupyter": {
     "source_hidden": true
    },
    "tags": []
   },
   "outputs": [
    {
     "name": "stdout",
     "output_type": "stream",
     "text": [
      "Dash is running on http://127.0.0.1:8050/\n",
      "\n",
      " * Serving Flask app '__main__' (lazy loading)\n",
      " * Environment: production\n",
      "\u001b[31m   WARNING: This is a development server. Do not use it in a production deployment.\u001b[0m\n",
      "\u001b[2m   Use a production WSGI server instead.\u001b[0m\n",
      " * Debug mode: off\n"
     ]
    },
    {
     "name": "stderr",
     "output_type": "stream",
     "text": [
      " * Running on http://127.0.0.1:8050 (Press CTRL+C to quit)\n",
      "127.0.0.1 - - [18/May/2022 19:24:42] \"GET / HTTP/1.1\" 200 -\n",
      "127.0.0.1 - - [18/May/2022 19:24:43] \"GET /_dash-layout HTTP/1.1\" 200 -\n",
      "127.0.0.1 - - [18/May/2022 19:24:43] \"GET /_dash-dependencies HTTP/1.1\" 200 -\n"
     ]
    },
    {
     "name": "stdout",
     "output_type": "stream",
     "text": [
      "Exception on /_dash-update-component [POST]\n",
      "Traceback (most recent call last):\n",
      "  File \"C:\\Users\\Rnowa\\anaconda3\\envs\\UE_UX_DASH_WEBAPP_WEBSCRAPING\\lib\\site-packages\\flask\\app.py\", line 2077, in wsgi_app\n",
      "    response = self.full_dispatch_request()\n",
      "  File \"C:\\Users\\Rnowa\\anaconda3\\envs\\UE_UX_DASH_WEBAPP_WEBSCRAPING\\lib\\site-packages\\flask\\app.py\", line 1525, in full_dispatch_request\n",
      "    rv = self.handle_user_exception(e)\n",
      "  File \"C:\\Users\\Rnowa\\anaconda3\\envs\\UE_UX_DASH_WEBAPP_WEBSCRAPING\\lib\\site-packages\\flask\\app.py\", line 1523, in full_dispatch_request\n",
      "    rv = self.dispatch_request()\n",
      "  File \"C:\\Users\\Rnowa\\anaconda3\\envs\\UE_UX_DASH_WEBAPP_WEBSCRAPING\\lib\\site-packages\\flask\\app.py\", line 1509, in dispatch_request\n",
      "    return self.ensure_sync(self.view_functions[rule.endpoint])(**req.view_args)\n",
      "  File \"C:\\Users\\Rnowa\\anaconda3\\envs\\UE_UX_DASH_WEBAPP_WEBSCRAPING\\lib\\site-packages\\dash\\dash.py\", line 1372, in dispatch\n",
      "    response.set_data(func(*args, outputs_list=outputs_list))\n",
      "  File \"C:\\Users\\Rnowa\\anaconda3\\envs\\UE_UX_DASH_WEBAPP_WEBSCRAPING\\lib\\site-packages\\dash\\_callback.py\", line 151, in add_context\n",
      "    output_value = func(*func_args, **func_kwargs)  # %% callback invoked %%\n",
      "  File \"C:\\Users\\Rnowa\\AppData\\Local\\Temp\\ipykernel_13236\\2493941956.py\", line 91, in update_output\n",
      "    fig = px.imshow(img)\n",
      "UnboundLocalError: local variable 'img' referenced before assignment\n"
     ]
    },
    {
     "name": "stderr",
     "output_type": "stream",
     "text": [
      "127.0.0.1 - - [18/May/2022 19:24:43] \"POST /_dash-update-component HTTP/1.1\" 500 -\n",
      "127.0.0.1 - - [18/May/2022 19:25:10] \"POST /_dash-update-component HTTP/1.1\" 200 -\n",
      "127.0.0.1 - - [18/May/2022 19:25:10] \"GET /_dash-component-suites/dash/dcc/async-graph.js HTTP/1.1\" 304 -\n",
      "127.0.0.1 - - [18/May/2022 19:25:10] \"GET /_dash-component-suites/dash/dcc/async-plotlyjs.js HTTP/1.1\" 304 -\n",
      "127.0.0.1 - - [18/May/2022 19:25:14] \"POST /_dash-update-component HTTP/1.1\" 200 -\n",
      "127.0.0.1 - - [18/May/2022 19:25:33] \"POST /_dash-update-component HTTP/1.1\" 200 -\n",
      "127.0.0.1 - - [18/May/2022 19:25:33] \"POST /_dash-update-component HTTP/1.1\" 200 -\n",
      "127.0.0.1 - - [18/May/2022 19:25:34] \"POST /_dash-update-component HTTP/1.1\" 200 -\n",
      "127.0.0.1 - - [18/May/2022 19:25:39] \"POST /_dash-update-component HTTP/1.1\" 200 -\n",
      "127.0.0.1 - - [18/May/2022 19:25:41] \"POST /_dash-update-component HTTP/1.1\" 200 -\n",
      "127.0.0.1 - - [18/May/2022 19:26:30] \"POST /_dash-update-component HTTP/1.1\" 200 -\n",
      "127.0.0.1 - - [18/May/2022 19:26:39] \"POST /_dash-update-component HTTP/1.1\" 200 -\n",
      "127.0.0.1 - - [18/May/2022 19:26:41] \"POST /_dash-update-component HTTP/1.1\" 200 -\n"
     ]
    }
   ],
   "source": [
    "app.run_server()"
   ]
  }
 ],
 "metadata": {
  "kernelspec": {
   "display_name": "Python 3 (ipykernel)",
   "language": "python",
   "name": "python3"
  },
  "language_info": {
   "codemirror_mode": {
    "name": "ipython",
    "version": 3
   },
   "file_extension": ".py",
   "mimetype": "text/x-python",
   "name": "python",
   "nbconvert_exporter": "python",
   "pygments_lexer": "ipython3",
   "version": "3.9.12"
  }
 },
 "nbformat": 4,
 "nbformat_minor": 5
}
